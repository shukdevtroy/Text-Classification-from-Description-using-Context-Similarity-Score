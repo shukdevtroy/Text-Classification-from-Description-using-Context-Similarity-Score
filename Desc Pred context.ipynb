{
 "cells": [
  {
   "cell_type": "code",
   "execution_count": 1,
   "metadata": {},
   "outputs": [
    {
     "name": "stderr",
     "output_type": "stream",
     "text": [
      "C:\\Users\\USER\\AppData\\Roaming\\Python\\Python310\\site-packages\\scipy\\__init__.py:155: UserWarning: A NumPy version >=1.18.5 and <1.25.0 is required for this version of SciPy (detected version 1.26.4\n",
      "  warnings.warn(f\"A NumPy version >={np_minversion} and <{np_maxversion}\"\n"
     ]
    }
   ],
   "source": [
    "import pandas as pd\n",
    "import numpy as np\n",
    "import string\n",
    "from nltk.tokenize import word_tokenize\n",
    "from nltk.stem import WordNetLemmatizer\n",
    "from nltk.corpus import stopwords\n",
    "from nltk.corpus import wordnet\n",
    "from nltk import pos_tag\n",
    "from sklearn.feature_extraction.text import TfidfVectorizer\n",
    "from sklearn.metrics.pairwise import cosine_similarity"
   ]
  },
  {
   "cell_type": "code",
   "execution_count": 2,
   "metadata": {},
   "outputs": [],
   "source": [
    "df1 = pd.read_csv(\"train.csv\")"
   ]
  },
  {
   "cell_type": "code",
   "execution_count": 3,
   "metadata": {},
   "outputs": [
    {
     "data": {
      "text/html": [
       "<div>\n",
       "<style scoped>\n",
       "    .dataframe tbody tr th:only-of-type {\n",
       "        vertical-align: middle;\n",
       "    }\n",
       "\n",
       "    .dataframe tbody tr th {\n",
       "        vertical-align: top;\n",
       "    }\n",
       "\n",
       "    .dataframe thead th {\n",
       "        text-align: right;\n",
       "    }\n",
       "</style>\n",
       "<table border=\"1\" class=\"dataframe\">\n",
       "  <thead>\n",
       "    <tr style=\"text-align: right;\">\n",
       "      <th></th>\n",
       "      <th>Desc</th>\n",
       "      <th>Sub_Department</th>\n",
       "    </tr>\n",
       "  </thead>\n",
       "  <tbody>\n",
       "    <tr>\n",
       "      <th>0</th>\n",
       "      <td>It all started subtly, a little itch here and ...</td>\n",
       "      <td>Infectious Disease Department</td>\n",
       "    </tr>\n",
       "    <tr>\n",
       "      <th>1</th>\n",
       "      <td>My skin has become a battleground, erupting in...</td>\n",
       "      <td>Infectious Disease Department</td>\n",
       "    </tr>\n",
       "    <tr>\n",
       "      <th>2</th>\n",
       "      <td>It started subtly, a slight itch at the corner...</td>\n",
       "      <td>Infectious Disease Department</td>\n",
       "    </tr>\n",
       "    <tr>\n",
       "      <th>3</th>\n",
       "      <td>It started with an itch, a subtle irritation o...</td>\n",
       "      <td>Infectious Disease Department</td>\n",
       "    </tr>\n",
       "    <tr>\n",
       "      <th>4</th>\n",
       "      <td>This relentless itching beneath my skin has tu...</td>\n",
       "      <td>Infectious Disease Department</td>\n",
       "    </tr>\n",
       "  </tbody>\n",
       "</table>\n",
       "</div>"
      ],
      "text/plain": [
       "                                                Desc  \\\n",
       "0  It all started subtly, a little itch here and ...   \n",
       "1  My skin has become a battleground, erupting in...   \n",
       "2  It started subtly, a slight itch at the corner...   \n",
       "3  It started with an itch, a subtle irritation o...   \n",
       "4  This relentless itching beneath my skin has tu...   \n",
       "\n",
       "                  Sub_Department  \n",
       "0  Infectious Disease Department  \n",
       "1  Infectious Disease Department  \n",
       "2  Infectious Disease Department  \n",
       "3  Infectious Disease Department  \n",
       "4  Infectious Disease Department  "
      ]
     },
     "execution_count": 3,
     "metadata": {},
     "output_type": "execute_result"
    }
   ],
   "source": [
    "df1.head()"
   ]
  },
  {
   "cell_type": "code",
   "execution_count": 4,
   "metadata": {},
   "outputs": [
    {
     "data": {
      "text/plain": [
       "0    It all started subtly, a little itch here and ...\n",
       "1    My skin has become a battleground, erupting in...\n",
       "2    It started subtly, a slight itch at the corner...\n",
       "3    It started with an itch, a subtle irritation o...\n",
       "4    This relentless itching beneath my skin has tu...\n",
       "Name: Desc, dtype: object"
      ]
     },
     "execution_count": 4,
     "metadata": {},
     "output_type": "execute_result"
    }
   ],
   "source": [
    "df1.head()[\"Desc\"]"
   ]
  },
  {
   "cell_type": "code",
   "execution_count": 5,
   "metadata": {},
   "outputs": [
    {
     "data": {
      "text/html": [
       "<div>\n",
       "<style scoped>\n",
       "    .dataframe tbody tr th:only-of-type {\n",
       "        vertical-align: middle;\n",
       "    }\n",
       "\n",
       "    .dataframe tbody tr th {\n",
       "        vertical-align: top;\n",
       "    }\n",
       "\n",
       "    .dataframe thead th {\n",
       "        text-align: right;\n",
       "    }\n",
       "</style>\n",
       "<table border=\"1\" class=\"dataframe\">\n",
       "  <thead>\n",
       "    <tr style=\"text-align: right;\">\n",
       "      <th></th>\n",
       "      <th>Desc</th>\n",
       "      <th>Sub_Department</th>\n",
       "    </tr>\n",
       "  </thead>\n",
       "  <tbody>\n",
       "    <tr>\n",
       "      <th>0</th>\n",
       "      <td>It all started subtly, a little itch here and ...</td>\n",
       "      <td>Infectious Disease Department</td>\n",
       "    </tr>\n",
       "    <tr>\n",
       "      <th>1</th>\n",
       "      <td>My skin has become a battleground, erupting in...</td>\n",
       "      <td>Infectious Disease Department</td>\n",
       "    </tr>\n",
       "    <tr>\n",
       "      <th>2</th>\n",
       "      <td>It started subtly, a slight itch at the corner...</td>\n",
       "      <td>Infectious Disease Department</td>\n",
       "    </tr>\n",
       "    <tr>\n",
       "      <th>3</th>\n",
       "      <td>It started with an itch, a subtle irritation o...</td>\n",
       "      <td>Infectious Disease Department</td>\n",
       "    </tr>\n",
       "    <tr>\n",
       "      <th>4</th>\n",
       "      <td>This relentless itching beneath my skin has tu...</td>\n",
       "      <td>Infectious Disease Department</td>\n",
       "    </tr>\n",
       "  </tbody>\n",
       "</table>\n",
       "</div>"
      ],
      "text/plain": [
       "                                                Desc  \\\n",
       "0  It all started subtly, a little itch here and ...   \n",
       "1  My skin has become a battleground, erupting in...   \n",
       "2  It started subtly, a slight itch at the corner...   \n",
       "3  It started with an itch, a subtle irritation o...   \n",
       "4  This relentless itching beneath my skin has tu...   \n",
       "\n",
       "                  Sub_Department  \n",
       "0  Infectious Disease Department  \n",
       "1  Infectious Disease Department  \n",
       "2  Infectious Disease Department  \n",
       "3  Infectious Disease Department  \n",
       "4  Infectious Disease Department  "
      ]
     },
     "execution_count": 5,
     "metadata": {},
     "output_type": "execute_result"
    }
   ],
   "source": [
    "dfp = df1.drop_duplicates(subset='Desc')\n",
    "dfp.head()"
   ]
  },
  {
   "cell_type": "code",
   "execution_count": 6,
   "metadata": {},
   "outputs": [
    {
     "data": {
      "text/plain": [
       "(1712, 2)"
      ]
     },
     "execution_count": 6,
     "metadata": {},
     "output_type": "execute_result"
    }
   ],
   "source": [
    "dfp.shape"
   ]
  },
  {
   "cell_type": "code",
   "execution_count": 7,
   "metadata": {},
   "outputs": [
    {
     "data": {
      "text/plain": [
       "(1712, 2)"
      ]
     },
     "execution_count": 7,
     "metadata": {},
     "output_type": "execute_result"
    }
   ],
   "source": [
    "dfp = dfp.dropna()\n",
    "dfp.shape"
   ]
  },
  {
   "cell_type": "code",
   "execution_count": 8,
   "metadata": {},
   "outputs": [],
   "source": [
    "stopwords_list = stopwords.words('english')\n",
    "\n",
    "lemmatizer = WordNetLemmatizer()\n",
    "\n",
    "def my_tokenizer(doc):\n",
    "    words = word_tokenize(doc)\n",
    "    \n",
    "    pos_tags = pos_tag(words)\n",
    "    \n",
    "    non_stopwords = [w for w in pos_tags if not w[0].lower() in stopwords_list]\n",
    "    \n",
    "    non_punctuation = [w for w in non_stopwords if not w[0] in string.punctuation]\n",
    "    \n",
    "    lemmas = []\n",
    "    for w in non_punctuation:\n",
    "        if w[1].startswith('J'):\n",
    "            pos = wordnet.ADJ\n",
    "        elif w[1].startswith('V'):\n",
    "            pos = wordnet.VERB\n",
    "        elif w[1].startswith('N'):\n",
    "            pos = wordnet.NOUN\n",
    "        elif w[1].startswith('R'):\n",
    "            pos = wordnet.ADV\n",
    "        else:\n",
    "            pos = wordnet.NOUN\n",
    "        \n",
    "        lemmas.append(lemmatizer.lemmatize(w[0], pos))\n",
    "\n",
    "    return lemmas"
   ]
  },
  {
   "cell_type": "code",
   "execution_count": 9,
   "metadata": {},
   "outputs": [
    {
     "name": "stdout",
     "output_type": "stream",
     "text": [
      "(1712, 6241)\n"
     ]
    }
   ],
   "source": [
    "tfidf_vectorizer = TfidfVectorizer(tokenizer=my_tokenizer)\n",
    "tfidf_matrix = tfidf_vectorizer.fit_transform(tuple(dfp['Desc']))\n",
    "print(tfidf_matrix.shape)"
   ]
  },
  {
   "cell_type": "code",
   "execution_count": 10,
   "metadata": {},
   "outputs": [
    {
     "data": {
      "text/plain": [
       "['tfidf_matrix_model.joblib']"
      ]
     },
     "execution_count": 10,
     "metadata": {},
     "output_type": "execute_result"
    }
   ],
   "source": [
    "import joblib\n",
    "\n",
    "# Save TF-IDF vectorizer\n",
    "tfidf_vectorizer_filename = 'tfidf_vectorizer_model.joblib'\n",
    "joblib.dump(tfidf_vectorizer, tfidf_vectorizer_filename)\n",
    "\n",
    "# Save cosine similarity model (tfidf_matrix)\n",
    "tfidf_matrix_filename = 'tfidf_matrix_model.joblib'\n",
    "joblib.dump(tfidf_matrix, tfidf_matrix_filename)"
   ]
  },
  {
   "cell_type": "code",
   "execution_count": 11,
   "metadata": {},
   "outputs": [],
   "source": [
    "# Function to use the saved models\n",
    "def load_models(tfidf_vectorizer_filename, tfidf_matrix_filename):\n",
    "    loaded_tfidf_vectorizer = joblib.load(tfidf_vectorizer_filename)\n",
    "    loaded_tfidf_matrix = joblib.load(tfidf_matrix_filename)\n",
    "    return loaded_tfidf_vectorizer, loaded_tfidf_matrix"
   ]
  },
  {
   "cell_type": "code",
   "execution_count": 12,
   "metadata": {},
   "outputs": [],
   "source": [
    "# Example usage of loading the models\n",
    "loaded_tfidf_vectorizer, loaded_tfidf_matrix = load_models(tfidf_vectorizer_filename, tfidf_matrix_filename)\n",
    "\n",
    "def ask_question_using_saved_models(Desc):\n",
    "    query_vect = loaded_tfidf_vectorizer.transform([Desc])\n",
    "    similarity = cosine_similarity(query_vect, loaded_tfidf_matrix)\n",
    "    max_similarity = np.argmax(similarity, axis=None)\n",
    "    \n",
    "    print('Your Description of symptoms:', Desc)\n",
    "    print('Closest Description found:', dfp.iloc[max_similarity]['Desc'])\n",
    "    print('Similarity: {:.2%}'.format(similarity[0, max_similarity]))\n",
    "    print('Department name:', dfp.iloc[max_similarity]['Sub_Department'])"
   ]
  },
  {
   "cell_type": "code",
   "execution_count": 13,
   "metadata": {},
   "outputs": [
    {
     "name": "stdout",
     "output_type": "stream",
     "text": [
      "Your Description of symptoms: It started subtly, a slight itch at the corner of my nail, barely noticeable. I figured it was just dry skin, nothing to worry about. But over the next few days, the itch intensified, spreading to other nails, turning into a burning sensation. I looked closer and saw the telltale signs - my nails were thickening, yellowing, and starting to crumble. Panic began to set in. The discomfort soon spread beyond my nails, with a persistent cough racking my chest and a strange fatigue dragging me down. My breath became shallow, each inhale a struggle. My skin erupted in a fiery rash, spreading across my body like wildfire. Every swallow felt like sandpaper scraping my throat. Even tasting my favorite foods became an ordeal. The once vibrant world around me dimmed, overshadowed by the relentless march of the infection within.\n",
      "Closest Description found: It started subtly, a slight itch at the corner of my nail, barely noticeable. I figured it was just dry skin, nothing to worry about. But over the next few days, the itch intensified, spreading to other nails, turning into a burning sensation. I looked closer and saw the telltale signs - my nails were thickening, yellowing, and starting to crumble. Panic began to set in. The discomfort soon spread beyond my nails, with a persistent cough racking my chest and a strange fatigue dragging me down. My breath became shallow, each inhale a struggle. My skin erupted in a fiery rash, spreading across my body like wildfire. Every swallow felt like sandpaper scraping my throat. Even tasting my favorite foods became an ordeal. The once vibrant world around me dimmed, overshadowed by the relentless march of the infection within.\n",
      "Similarity: 100.00%\n",
      "Department name: Infectious Disease Department\n"
     ]
    }
   ],
   "source": [
    "ask_question_using_saved_models(\"It started subtly, a slight itch at the corner of my nail, barely noticeable. I figured it was just dry skin, nothing to worry about. But over the next few days, the itch intensified, spreading to other nails, turning into a burning sensation. I looked closer and saw the telltale signs - my nails were thickening, yellowing, and starting to crumble. Panic began to set in. The discomfort soon spread beyond my nails, with a persistent cough racking my chest and a strange fatigue dragging me down. My breath became shallow, each inhale a struggle. My skin erupted in a fiery rash, spreading across my body like wildfire. Every swallow felt like sandpaper scraping my throat. Even tasting my favorite foods became an ordeal. The once vibrant world around me dimmed, overshadowed by the relentless march of the infection within.\")"
   ]
  },
  {
   "cell_type": "code",
   "execution_count": 15,
   "metadata": {},
   "outputs": [],
   "source": [
    "import tkinter as tk\n",
    "from tkinter import ttk, scrolledtext\n",
    "import numpy as np\n",
    "from sklearn.metrics.pairwise import cosine_similarity\n",
    "\n",
    "# Assuming loaded_tfidf_vectorizer, loaded_tfidf_matrix, dfp are already defined\n",
    "\n",
    "class QuestionAnswerGUI:\n",
    "    def __init__(self, root):\n",
    "        self.root = root\n",
    "        self.root.title(\"Hospital Department Recommendation System\")\n",
    "\n",
    "        # Configure a style for colorful elements\n",
    "        style = ttk.Style()\n",
    "        style.configure(\"TButton\", foreground=\"black\", background=\"blue\")\n",
    "        style.configure(\"TLabel\", foreground=\"green\")\n",
    "\n",
    "        # Create and set up GUI elements\n",
    "        self.label = ttk.Label(root, text=\"Enter your Description of symptoms:\", style=\"TLabel\")\n",
    "        self.label.pack(pady=10)\n",
    "        custom_font = ('Arial', 22)\n",
    "\n",
    "        # Use scrolledtext for scrollable entry\n",
    "        self.question_entry = scrolledtext.ScrolledText(root, font=custom_font, width=100, height=10)\n",
    "        self.question_entry.pack(pady=50, padx=10)\n",
    "\n",
    "        self.ask_button = ttk.Button(root, text=\"Ask for Department Recommendation\", command=self.ask_question, style=\"TButton\")\n",
    "        self.ask_button.pack(pady=10)\n",
    "\n",
    "        # Use scrolledtext for scrollable output\n",
    "        self.output_text = scrolledtext.ScrolledText(root, font=custom_font, width=100, height=10)\n",
    "        self.output_text.pack(pady=10, padx=10)\n",
    "\n",
    "    def ask_question(self):\n",
    "        Desc = self.question_entry.get(\"1.0\", tk.END).strip()  # Get text from the scrolledtext widget\n",
    "\n",
    "        if Desc:\n",
    "            query_vect = loaded_tfidf_vectorizer.transform([Desc])\n",
    "            similarity = cosine_similarity(query_vect, loaded_tfidf_matrix)\n",
    "            max_similarity = np.argmax(similarity, axis=None)\n",
    "\n",
    "            output_text = f'Closest Description found: {dfp.iloc[max_similarity][\"Desc\"]}\\n' \\\n",
    "                          f'Similarity: {similarity[0, max_similarity]:.2%}\\n' \\\n",
    "                          f'Department Recommended: {dfp.iloc[max_similarity][\"Sub_Department\"]}'\n",
    "            self.output_text.config(state=tk.NORMAL)  # Enable editing\n",
    "            self.output_text.delete(\"1.0\", tk.END)  # Clear previous text\n",
    "            self.output_text.insert(tk.END, output_text)  # Insert new text\n",
    "            self.output_text.config(state=tk.DISABLED)  # Disable editing\n",
    "        else:\n",
    "            self.output_text.config(state=tk.NORMAL)\n",
    "            self.output_text.delete(\"1.0\", tk.END)\n",
    "            self.output_text.insert(tk.END, \"Please enter a Description of the symptoms.\")\n",
    "            self.output_text.config(state=tk.DISABLED)\n",
    "\n",
    "# Create an instance of the GUI\n",
    "root = tk.Tk()\n",
    "app = QuestionAnswerGUI(root)\n",
    "\n",
    "# Run the GUI loop\n",
    "root.mainloop()\n"
   ]
  }
 ],
 "metadata": {
  "kernelspec": {
   "display_name": "Python 3",
   "language": "python",
   "name": "python3"
  },
  "language_info": {
   "codemirror_mode": {
    "name": "ipython",
    "version": 3
   },
   "file_extension": ".py",
   "mimetype": "text/x-python",
   "name": "python",
   "nbconvert_exporter": "python",
   "pygments_lexer": "ipython3",
   "version": "3.10.4"
  }
 },
 "nbformat": 4,
 "nbformat_minor": 2
}
